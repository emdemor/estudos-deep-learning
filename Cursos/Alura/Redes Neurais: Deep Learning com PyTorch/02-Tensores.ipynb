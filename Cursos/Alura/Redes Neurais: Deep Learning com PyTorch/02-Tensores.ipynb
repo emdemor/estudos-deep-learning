{
  "nbformat": 4,
  "nbformat_minor": 0,
  "metadata": {
    "colab": {
      "provenance": [],
      "collapsed_sections": [],
      "authorship_tag": "ABX9TyMMXhAlBLUNIbBK8GMz302A",
      "include_colab_link": true
    },
    "kernelspec": {
      "name": "python3",
      "display_name": "Python 3"
    },
    "language_info": {
      "name": "python"
    }
  },
  "cells": [
    {
      "cell_type": "markdown",
      "metadata": {
        "id": "view-in-github",
        "colab_type": "text"
      },
      "source": [
        "<a href=\"https://colab.research.google.com/github/emdemor/estudos-deep-learning/blob/main/Cursos/Alura/Redes%20Neurais%3A%20Deep%20Learning%20com%20PyTorch/02-Tensores.ipynb\" target=\"_parent\"><img src=\"https://colab.research.google.com/assets/colab-badge.svg\" alt=\"Open In Colab\"/></a>"
      ]
    },
    {
      "cell_type": "code",
      "execution_count": 5,
      "metadata": {
        "id": "QB3pyUGlrYBM"
      },
      "outputs": [],
      "source": [
        "import torch\n",
        "import numpy as np"
      ]
    },
    {
      "cell_type": "code",
      "source": [
        "# Criando tensor a partir de lista\n",
        "\n",
        "base_list = [\n",
        "    [1,2],\n",
        "    [2,3]\n",
        "]\n",
        "\n",
        "base_tensor = torch.Tensor(base_list)\n",
        "\n",
        "print(base_tensor)"
      ],
      "metadata": {
        "colab": {
          "base_uri": "https://localhost:8080/"
        },
        "id": "ltVZoUlysC69",
        "outputId": "e5e18267-392c-4436-f1de-8a0317f86f78"
      },
      "execution_count": 3,
      "outputs": [
        {
          "output_type": "stream",
          "name": "stdout",
          "text": [
            "tensor([[1., 2.],\n",
            "        [2., 3.]])\n"
          ]
        }
      ]
    },
    {
      "cell_type": "code",
      "source": [
        "# Criando tensor a partir de array\n",
        "\n",
        "base_array = np.array(\n",
        "  [\n",
        "    [1,3],\n",
        "    [2,3]\n",
        "  ]\n",
        ")\n",
        "base_tensor = torch.Tensor(base_array)\n",
        "print(base_tensor)\n",
        "\n",
        "base_tensor = torch.from_numpy(base_array) # Essa opção mantem os tipos numpy\n",
        "print(base_tensor)\n",
        "\n"
      ],
      "metadata": {
        "colab": {
          "base_uri": "https://localhost:8080/"
        },
        "id": "lYGeTTVysDkb",
        "outputId": "45b7cc82-68a3-40af-b8c1-a5d5c3b15caf"
      },
      "execution_count": 9,
      "outputs": [
        {
          "output_type": "stream",
          "name": "stdout",
          "text": [
            "tensor([[1., 3.],\n",
            "        [2., 3.]])\n",
            "tensor([[1, 3],\n",
            "        [2, 3]])\n"
          ]
        }
      ]
    },
    {
      "cell_type": "code",
      "source": [
        "# inicialização de tensors\n",
        "tns1 = torch.ones(2, 3)\n",
        "tns0 = torch.zeros(3, 5)\n",
        "tnsr = torch.randn(3, 3)\n",
        "\n",
        "print(tns1)\n",
        "print(tns0)\n",
        "print(tnsr)"
      ],
      "metadata": {
        "colab": {
          "base_uri": "https://localhost:8080/"
        },
        "id": "lr4YfyhcsDos",
        "outputId": "8bd60693-3db9-4b2c-bdf0-b6e8fa45c49a"
      },
      "execution_count": 10,
      "outputs": [
        {
          "output_type": "stream",
          "name": "stdout",
          "text": [
            "tensor([[1., 1., 1.],\n",
            "        [1., 1., 1.]])\n",
            "tensor([[0., 0., 0., 0., 0.],\n",
            "        [0., 0., 0., 0., 0.],\n",
            "        [0., 0., 0., 0., 0.]])\n",
            "tensor([[ 0.4623,  0.6928,  2.5569],\n",
            "        [-0.4862, -1.4056, -1.1394],\n",
            "        [-0.2211,  0.1708, -0.3343]])\n"
          ]
        }
      ]
    },
    {
      "cell_type": "code",
      "source": [
        "if torch.cuda.is_available():\n",
        "  device = torch.device('cuda')\n",
        "else:\n",
        "  device = torch.device('cpu')\n",
        "  \n",
        "print(device)\n",
        "\n",
        "tns1 = tns1.to(device)\n",
        "\n",
        "print(tns1)"
      ],
      "metadata": {
        "colab": {
          "base_uri": "https://localhost:8080/"
        },
        "id": "imB2oNX6sDsB",
        "outputId": "ef2c1e10-4584-4f5f-ea61-942e4b8736fb"
      },
      "execution_count": 12,
      "outputs": [
        {
          "output_type": "stream",
          "name": "stdout",
          "text": [
            "cpu\n",
            "tensor([[1., 1., 1.],\n",
            "        [1., 1., 1.]])\n"
          ]
        }
      ]
    },
    {
      "cell_type": "code",
      "source": [],
      "metadata": {
        "id": "QhdeXFoJsDvT"
      },
      "execution_count": null,
      "outputs": []
    },
    {
      "cell_type": "code",
      "source": [],
      "metadata": {
        "id": "uq_8yozPsDyZ"
      },
      "execution_count": null,
      "outputs": []
    }
  ]
}