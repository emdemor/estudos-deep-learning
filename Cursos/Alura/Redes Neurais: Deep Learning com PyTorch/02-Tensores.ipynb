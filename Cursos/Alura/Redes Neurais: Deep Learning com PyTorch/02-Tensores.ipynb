{
  "nbformat": 4,
  "nbformat_minor": 0,
  "metadata": {
    "colab": {
      "provenance": [],
      "collapsed_sections": [],
      "authorship_tag": "ABX9TyOl2Rr4408++mEyrwOAR7L2",
      "include_colab_link": true
    },
    "kernelspec": {
      "name": "python3",
      "display_name": "Python 3"
    },
    "language_info": {
      "name": "python"
    }
  },
  "cells": [
    {
      "cell_type": "markdown",
      "metadata": {
        "id": "view-in-github",
        "colab_type": "text"
      },
      "source": [
        "<a href=\"https://colab.research.google.com/github/emdemor/estudos-deep-learning/blob/main/Cursos/Alura/Redes%20Neurais%3A%20Deep%20Learning%20com%20PyTorch/02-Tensores.ipynb\" target=\"_parent\"><img src=\"https://colab.research.google.com/assets/colab-badge.svg\" alt=\"Open In Colab\"/></a>"
      ]
    },
    {
      "cell_type": "code",
      "execution_count": null,
      "metadata": {
        "id": "QB3pyUGlrYBM"
      },
      "outputs": [],
      "source": [
        "Teste"
      ]
    }
  ]
}